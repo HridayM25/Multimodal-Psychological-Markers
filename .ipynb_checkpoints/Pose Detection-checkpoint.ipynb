{
 "cells": [
  {
   "cell_type": "code",
   "execution_count": 1,
   "metadata": {
    "colab": {
     "base_uri": "https://localhost:8080/"
    },
    "id": "lcprqhqfNsE6",
    "outputId": "e511e34f-2deb-4310-b592-9b5a009ef637"
   },
   "outputs": [
    {
     "name": "stdout",
     "output_type": "stream",
     "text": [
      "Requirement already satisfied: mediapipe in c:\\users\\hrida\\appdata\\roaming\\python\\python39\\site-packages (0.9.0.1)\n",
      "Requirement already satisfied: opencv-contrib-python in c:\\users\\hrida\\appdata\\roaming\\python\\python39\\site-packages (from mediapipe) (4.6.0.66)\n",
      "Requirement already satisfied: protobuf<4,>=3.11 in c:\\users\\hrida\\anaconda3\\lib\\site-packages (from mediapipe) (3.20.1)\n",
      "Requirement already satisfied: attrs>=19.1.0 in c:\\users\\hrida\\anaconda3\\lib\\site-packages (from mediapipe) (21.2.0)\n",
      "Requirement already satisfied: matplotlib in c:\\users\\hrida\\anaconda3\\lib\\site-packages (from mediapipe) (3.4.3)\n",
      "Requirement already satisfied: flatbuffers>=2.0 in c:\\users\\hrida\\anaconda3\\lib\\site-packages (from mediapipe) (2.0)\n",
      "Requirement already satisfied: numpy in c:\\users\\hrida\\anaconda3\\lib\\site-packages (from mediapipe) (1.22.4)\n",
      "Requirement already satisfied: absl-py in c:\\users\\hrida\\anaconda3\\lib\\site-packages (from mediapipe) (1.0.0)\n",
      "Requirement already satisfied: six in c:\\users\\hrida\\anaconda3\\lib\\site-packages (from absl-py->mediapipe) (1.16.0)\n",
      "Requirement already satisfied: cycler>=0.10 in c:\\users\\hrida\\anaconda3\\lib\\site-packages (from matplotlib->mediapipe) (0.10.0)\n",
      "Requirement already satisfied: kiwisolver>=1.0.1 in c:\\users\\hrida\\anaconda3\\lib\\site-packages (from matplotlib->mediapipe) (1.3.1)\n",
      "Requirement already satisfied: python-dateutil>=2.7 in c:\\users\\hrida\\anaconda3\\lib\\site-packages (from matplotlib->mediapipe) (2.8.2)\n",
      "Requirement already satisfied: pillow>=6.2.0 in c:\\users\\hrida\\anaconda3\\lib\\site-packages (from matplotlib->mediapipe) (9.5.0)\n",
      "Requirement already satisfied: pyparsing>=2.2.1 in c:\\users\\hrida\\anaconda3\\lib\\site-packages (from matplotlib->mediapipe) (3.0.4)\n"
     ]
    },
    {
     "name": "stderr",
     "output_type": "stream",
     "text": [
      "WARNING: Ignoring invalid distribution -rotobuf (c:\\users\\hrida\\anaconda3\\lib\\site-packages)\n",
      "WARNING: Ignoring invalid distribution -rotobuf (c:\\users\\hrida\\anaconda3\\lib\\site-packages)\n",
      "WARNING: Ignoring invalid distribution -rotobuf (c:\\users\\hrida\\anaconda3\\lib\\site-packages)\n",
      "WARNING: Ignoring invalid distribution -rotobuf (c:\\users\\hrida\\anaconda3\\lib\\site-packages)\n",
      "WARNING: You are using pip version 22.0.4; however, version 23.3.1 is available.\n",
      "You should consider upgrading via the 'C:\\Users\\hrida\\anaconda3\\python.exe -m pip install --upgrade pip' command.\n"
     ]
    }
   ],
   "source": [
    "!pip install mediapipe"
   ]
  },
  {
   "cell_type": "code",
   "execution_count": 2,
   "metadata": {
    "id": "bpIKYutVNYZL"
   },
   "outputs": [],
   "source": [
    "import cv2\n",
    "import mediapipe as mp\n",
    "import matplotlib.pyplot as plt\n",
    "import numpy as np\n",
    "import math\n",
    "from sklearn.cluster import KMeans"
   ]
  },
  {
   "cell_type": "code",
   "execution_count": 4,
   "metadata": {
    "id": "X05Pf2kjdHLZ"
   },
   "outputs": [],
   "source": [
    "from PIL import Image\n",
    "#from google.colab.patches import cv2_imshow"
   ]
  },
  {
   "cell_type": "code",
   "execution_count": 5,
   "metadata": {
    "id": "YhFn50ZFOiMk"
   },
   "outputs": [],
   "source": [
    "mp_pose = mp.solutions.pose\n",
    "pose_image = mp_pose.Pose(static_image_mode=True, min_detection_confidence=0.5)\n",
    "pose_video = mp_pose.Pose(static_image_mode=False, min_detection_confidence=0.7,\n",
    "                          min_tracking_confidence=0.7)\n",
    "mp_drawing = mp.solutions.drawing_utils"
   ]
  },
  {
   "cell_type": "code",
   "execution_count": 6,
   "metadata": {
    "id": "dpU3Tv1CdAa_"
   },
   "outputs": [],
   "source": [
    "#cv2_imshow(output)"
   ]
  },
  {
   "cell_type": "code",
   "execution_count": null,
   "metadata": {
    "id": "xdJkje8lPR_-"
   },
   "outputs": [],
   "source": [
    "output = cv2.imread(\"/content/37.jpg\")"
   ]
  },
  {
   "cell_type": "code",
   "execution_count": null,
   "metadata": {
    "colab": {
     "base_uri": "https://localhost:8080/"
    },
    "id": "3r3cVmU800ff",
    "outputId": "79fdff9d-907a-4592-ac0f-5d5a277e875c"
   },
   "outputs": [
    {
     "data": {
      "text/plain": [
       "(740, 569, 3)"
      ]
     },
     "execution_count": 6,
     "metadata": {},
     "output_type": "execute_result"
    }
   ],
   "source": [
    "output.shape"
   ]
  },
  {
   "cell_type": "code",
   "execution_count": null,
   "metadata": {
    "id": "drtM-Z1R03l-"
   },
   "outputs": [],
   "source": [
    "def bounder(coor, output):\n",
    "  x_max=output.shape[1]\n",
    "  y_max=output.shape[0]\n",
    "  x_min=0\n",
    "  y_min=0\n",
    "  x1,y1,x2,y2=coor\n",
    "  if x1>x_max:\n",
    "    x1=x_max\n",
    "  if x1<0:\n",
    "    x1=0\n",
    "  if x2>x_max:\n",
    "    x2=x_max\n",
    "  if x2<0:\n",
    "    x2=0\n",
    "  if y1>y_max:\n",
    "    y1=y_max\n",
    "  if y1<0:\n",
    "    y1=0\n",
    "  if y2>y_max:\n",
    "    y2=y_max\n",
    "  if y2<0:\n",
    "    y2=0\n",
    "  return (x1,y1,x2,y2)\n"
   ]
  },
  {
   "cell_type": "code",
   "execution_count": null,
   "metadata": {
    "id": "rGWxQuLhPBAj"
   },
   "outputs": [],
   "source": [
    "#all bottomwear\n",
    "def bottomwear_colour(output):\n",
    "  shape=output.shape\n",
    "  image_in_RGB = cv2.cvtColor(output, cv2.COLOR_BGR2RGB)\n",
    "  resultant = pose_image.process(image_in_RGB)\n",
    "  x1=int((resultant.pose_landmarks.landmark[mp_pose.PoseLandmark.RIGHT_HIP].x)*shape[1])\n",
    "  y1=int((resultant.pose_landmarks.landmark[mp_pose.PoseLandmark.RIGHT_HIP].y)*shape[0])\n",
    "  coor= (x1+10,y1+10,x1+30,y1+30)\n",
    "  c=bounder(coor,output)\n",
    "  return c\n"
   ]
  },
  {
   "cell_type": "code",
   "execution_count": null,
   "metadata": {
    "id": "57L0wQfNcb1Y"
   },
   "outputs": [],
   "source": [
    "#all upperwear minus nehrujackets, or multiple upperwear on one.\n",
    "def upperwear_colour(output):\n",
    "  shape=output.shape\n",
    "  image_in_RGB = cv2.cvtColor(output, cv2.COLOR_BGR2RGB)\n",
    "  resultant = pose_image.process(image_in_RGB)\n",
    "  x1=int((resultant.pose_landmarks.landmark[mp_pose.PoseLandmark.RIGHT_HIP].x)*shape[1])\n",
    "  y1=int((resultant.pose_landmarks.landmark[mp_pose.PoseLandmark.RIGHT_HIP].y)*shape[0])\n",
    "  x2=int((resultant.pose_landmarks.landmark[mp_pose.PoseLandmark.LEFT_HIP].x)*shape[1])\n",
    "  y2=int((resultant.pose_landmarks.landmark[mp_pose.PoseLandmark.LEFT_HIP].y)*shape[0])\n",
    "  x3=int((resultant.pose_landmarks.landmark[mp_pose.PoseLandmark.RIGHT_SHOULDER].x)*shape[1])\n",
    "  y3=int((resultant.pose_landmarks.landmark[mp_pose.PoseLandmark.RIGHT_SHOULDER].y)*shape[0])\n",
    "  #return (x3+10,y2+15,x2-25,y2+35)\n",
    "  return bounder((x1,y3+20, x2, y2-105), output)\n",
    "  #right hip (x), right shoulder (y+10) ,, left hip(x), left hip (y-20)\n"
   ]
  },
  {
   "cell_type": "code",
   "execution_count": null,
   "metadata": {
    "id": "89CnHw5Qs3Hy"
   },
   "outputs": [],
   "source": [
    "# where sleeves and torso is different\n",
    "def sleeve_diff_upperwear_colour(output):\n",
    "  shape=output.shape\n",
    "  image_in_RGB = cv2.cvtColor(output, cv2.COLOR_BGR2RGB)\n",
    "  resultant = pose_image.process(image_in_RGB)\n",
    "  #sleeve part\n",
    "  x1=int((resultant.pose_landmarks.landmark[mp_pose.PoseLandmark.RIGHT_SHOULDER].x)*shape[1])\n",
    "  y1=int((resultant.pose_landmarks.landmark[mp_pose.PoseLandmark.RIGHT_SHOULDER].y)*shape[0])\n",
    "  x2=int((resultant.pose_landmarks.landmark[mp_pose.PoseLandmark.RIGHT_ELBOW].x)*shape[1])\n",
    "  y2=int((resultant.pose_landmarks.landmark[mp_pose.PoseLandmark.RIGHT_ELBOW].y)*shape[0])\n",
    "  x3=int((resultant.pose_landmarks.landmark[mp_pose.PoseLandmark.LEFT_HIP].x)*shape[1])\n",
    "  y3=int((resultant.pose_landmarks.landmark[mp_pose.PoseLandmark.LEFT_HIP].y)*shape[0])\n",
    "  x4=int((resultant.pose_landmarks.landmark[mp_pose.PoseLandmark.LEFT_ELBOW].x)*shape[1])\n",
    "  y4=int((resultant.pose_landmarks.landmark[mp_pose.PoseLandmark.LEFT_ELBOW].y)*shape[0])\n",
    "  return bounder((x2,y1+10, x4, y3), output)\n",
    "  # right elbow (x), right shoulder (y+10),, left elbow(x), left hip (y-20)"
   ]
  },
  {
   "cell_type": "code",
   "execution_count": null,
   "metadata": {
    "id": "LJ8nsmsgc88X"
   },
   "outputs": [],
   "source": [
    "def colour_average(image):\n",
    "  data=np.array(image)\n",
    "  shape=data.shape\n",
    "  rows=shape[0]\n",
    "  red=[]\n",
    "  green=[]\n",
    "  blue=[]\n",
    "  r=[]\n",
    "  g=[]\n",
    "  b=[]\n",
    "  c=0\n",
    "  for iterator in range(rows):\n",
    "    for x in data[iterator]:\n",
    "      red.append(x[0])\n",
    "      green.append(x[1])\n",
    "      blue.append(x[2])\n",
    "  rm=np.mean(red)\n",
    "  gm=np.mean(green)\n",
    "  bm=np.mean(blue)\n",
    "  rs=np.std(red)*3\n",
    "  gs=np.std(green)*3\n",
    "  bs=np.std(blue)*3\n",
    "  for item in red:\n",
    "    if item>=rm and item<=rm+rs:\n",
    "      r.append(item)\n",
    "  r=[int(x)*int(x) for x in r]\n",
    "  for item in green:\n",
    "    if item>=gm and item<=gm+gs:\n",
    "      g.append(item)\n",
    "  g=[int(x)*int(x) for x in g]\n",
    "  for item in blue:\n",
    "    if item>=bm and item<=bm+bs:\n",
    "      b.append(item)\n",
    "  b=[int(x)*int(x) for x in b]\n",
    "  red_trim=math.sqrt(sum(r)/len(r))\n",
    "  green_trim=math.sqrt(sum(g)/len(g))\n",
    "  blue_trim=math.sqrt(sum(b)/len(b))\n",
    "  area=min(len(r), len(g), len(b))\n",
    "  return [red_trim, green_trim, blue_trim, area]"
   ]
  },
  {
   "cell_type": "code",
   "execution_count": null,
   "metadata": {
    "id": "S2LxYmPRjhLZ"
   },
   "outputs": [],
   "source": [
    "def colour_cluster(image):\n",
    "  img=np.array(image)\n",
    " # img=cv2.cvtColor(img,cv2.COLOR_BGR2RGB)\n",
    "  img=img.reshape((img.shape[1]*img.shape[0],3))\n",
    "  m=elbow_method(image)\n",
    "  kmeans=KMeans(n_clusters=m)\n",
    "  s=kmeans.fit(img)\n",
    "  labels=kmeans.labels_\n",
    "  labels=list(labels)\n",
    "  centroid=kmeans.cluster_centers_\n",
    "  percent=[]\n",
    "  for i in range(len(centroid)):\n",
    "    j=labels.count(i)\n",
    "    j=j/(len(labels))\n",
    "    percent.append(j)\n",
    "  plt.pie(percent,colors=np.array(centroid/255),labels=np.arange(len(centroid)))\n",
    "  plt.show()"
   ]
  },
  {
   "cell_type": "code",
   "execution_count": null,
   "metadata": {
    "id": "6pTS0xYjzZf9"
   },
   "outputs": [],
   "source": [
    "def colour_cluster3(image):\n",
    "  img=np.array(image)\n",
    "  #img=cv2.cvtColor(img,cv2.COLOR_BGR2RGB)\n",
    "  img=img.reshape((img.shape[1]*img.shape[0],3))\n",
    "  kmeans=KMeans(n_clusters=3)\n",
    "  s=kmeans.fit(img)\n",
    "  labels=kmeans.labels_\n",
    "  labels=list(labels)\n",
    "  centroid=kmeans.cluster_centers_\n",
    "  percent=[]\n",
    "  for i in range(len(centroid)):\n",
    "    j=labels.count(i)\n",
    "    j=j/(len(labels))\n",
    "    percent.append(j)\n",
    "  plt.pie(percent,colors=np.array(centroid/255),labels=np.arange(len(centroid)))\n",
    "  plt.show()"
   ]
  },
  {
   "cell_type": "code",
   "execution_count": null,
   "metadata": {
    "colab": {
     "base_uri": "https://localhost:8080/"
    },
    "id": "Igw3OSSIVRS2",
    "outputId": "43d82835-a971-4613-9443-1f422c5824ec"
   },
   "outputs": [
    {
     "name": "stdout",
     "output_type": "stream",
     "text": [
      "(214, 200, 293, 280)\n"
     ]
    }
   ],
   "source": [
    "coordinates=upperwear_colour(output)\n",
    "print(coordinates)"
   ]
  },
  {
   "cell_type": "code",
   "execution_count": null,
   "metadata": {
    "id": "m8LF0rvQROjD"
   },
   "outputs": [],
   "source": [
    " cv2.circle(output, (65,325), radius=1, color=(225, 0, 100), thickness=5)\n",
    " cv2_imshow(output)"
   ]
  },
  {
   "cell_type": "code",
   "execution_count": null,
   "metadata": {
    "id": "r-J8SyVWbH-M"
   },
   "outputs": [],
   "source": [
    "image1=Image.open(\"37.jpg\")"
   ]
  },
  {
   "cell_type": "code",
   "execution_count": null,
   "metadata": {
    "id": "FwfnHVQuTHau"
   },
   "outputs": [],
   "source": [
    "upperwear_crop1=image1.crop(coordinates)"
   ]
  },
  {
   "cell_type": "code",
   "execution_count": null,
   "metadata": {
    "colab": {
     "base_uri": "https://localhost:8080/",
     "height": 97
    },
    "id": "ZO2MNPtT01ei",
    "outputId": "f01898d6-84fb-4109-dcc9-fc35e8af7a4e"
   },
   "outputs": [
    {
     "data": {
      "image/png": "[encoded data removed]",
      "text/plain": [
       "<PIL.Image.Image image mode=RGB size=79x80 at 0x7F4B80E742B0>"
      ]
     },
     "execution_count": 37,
     "metadata": {},
     "output_type": "execute_result"
    }
   ],
   "source": [
    "upperwear_crop1"
   ]
  },
  {
   "cell_type": "code",
   "execution_count": null,
   "metadata": {
    "colab": {
     "base_uri": "https://localhost:8080/"
    },
    "id": "1G803IUf3drR",
    "outputId": "c53bce1f-acce-4b0b-b9be-5e2e33d891eb"
   },
   "outputs": [
    {
     "name": "stdout",
     "output_type": "stream",
     "text": [
      "2\n"
     ]
    }
   ],
   "source": [
    "print(elbow_method(upperwear_crop1))"
   ]
  },
  {
   "cell_type": "code",
   "execution_count": null,
   "metadata": {
    "colab": {
     "base_uri": "https://localhost:8080/",
     "height": 248
    },
    "id": "UPcTfeIL2kdZ",
    "outputId": "eea30ade-4846-459a-cf5c-e33490846aac"
   },
   "outputs": [
    {
     "data": {
      "image/png": "[encoded data removed]",
      "text/plain": [
       "<Figure size 432x288 with 1 Axes>"
      ]
     },
     "metadata": {},
     "output_type": "display_data"
    }
   ],
   "source": [
    "colour_cluster2(upperwear_crop1)"
   ]
  },
  {
   "cell_type": "code",
   "execution_count": null,
   "metadata": {
    "id": "ybWpEjk0TepS"
   },
   "outputs": [],
   "source": [
    "image2=Image.open(\"100.jpg\")"
   ]
  },
  {
   "cell_type": "code",
   "execution_count": null,
   "metadata": {
    "id": "GMRzjSnVUjjG"
   },
   "outputs": [],
   "source": [
    "upperwear_crop2=image2.crop(coordinates)"
   ]
  },
  {
   "cell_type": "code",
   "execution_count": null,
   "metadata": {
    "colab": {
     "base_uri": "https://localhost:8080/",
     "height": 196
    },
    "id": "ni6GhIhpjV4-",
    "outputId": "bec7104f-a7d0-4bc2-893a-8c0e7a84d03c"
   },
   "outputs": [
    {
     "data": {
      "image/png": "[encoded data removed]",
      "text/plain": [
       "<PIL.Image.Image image mode=RGB size=131x179 at 0x7FB1DBF9AB20>"
      ]
     },
     "execution_count": 64,
     "metadata": {},
     "output_type": "execute_result"
    }
   ],
   "source": [
    "upperwear_crop2"
   ]
  },
  {
   "cell_type": "code",
   "execution_count": null,
   "metadata": {
    "colab": {
     "base_uri": "https://localhost:8080/",
     "height": 248
    },
    "id": "kxqvt3bYuk3k",
    "outputId": "c5dad6e0-d05c-4496-d82d-a5926232ad68"
   },
   "outputs": [
    {
     "data": {
      "image/png": "[encoded data removed]",
      "text/plain": [
       "<Figure size 432x288 with 1 Axes>"
      ]
     },
     "metadata": {},
     "output_type": "display_data"
    }
   ],
   "source": [
    "colour_cluster3(upperwear_crop2)"
   ]
  },
  {
   "cell_type": "code",
   "execution_count": null,
   "metadata": {
    "id": "Dm-9JEo-wMo-"
   },
   "outputs": [],
   "source": [
    "upperwear_crop=image2.crop(coordinates)"
   ]
  },
  {
   "cell_type": "code",
   "execution_count": null,
   "metadata": {
    "colab": {
     "base_uri": "https://localhost:8080/"
    },
    "id": "HGAZDxCpVOzh",
    "outputId": "426bc3a8-e0b3-4d8d-a2c6-a94bdc5fe6d3"
   },
   "outputs": [
    {
     "data": {
      "text/plain": [
       "(720, 714)"
      ]
     },
     "execution_count": 52,
     "metadata": {},
     "output_type": "execute_result"
    }
   ],
   "source": [
    "image3=Image.open(\"5.jpg\")\n",
    "image3.size"
   ]
  },
  {
   "cell_type": "code",
   "execution_count": null,
   "metadata": {
    "id": "cABAcrLeXP1r"
   },
   "outputs": [],
   "source": [
    "upperwear_crop3=image3.crop(coordinates)\n"
   ]
  },
  {
   "cell_type": "code",
   "execution_count": null,
   "metadata": {
    "colab": {
     "base_uri": "https://localhost:8080/"
    },
    "id": "uQzAfWN0XWC3",
    "outputId": "0023571a-1a9d-40fa-b7ed-a73141ec4584"
   },
   "outputs": [
    {
     "data": {
      "text/plain": [
       "(690, 932)"
      ]
     },
     "execution_count": 53,
     "metadata": {},
     "output_type": "execute_result"
    }
   ],
   "source": [
    "upperwear_crop3.size"
   ]
  },
  {
   "cell_type": "code",
   "execution_count": null,
   "metadata": {
    "id": "iZi-W-l6S5tb"
   },
   "outputs": [],
   "source": [
    "def elbow_method(image):\n",
    "  img=np.array(image)\n",
    "  #img=cv2.cvtColor(img,cv2.COLOR_BGR2RGB)\n",
    "  img=img.reshape((img.shape[1]*img.shape[0],3))\n",
    "  md=[]\n",
    "  ans=[]\n",
    "  for i in range(1,21):\n",
    "    kmeans=KMeans(n_clusters=i)\n",
    "    kmeans.fit(img)\n",
    "    o=kmeans.inertia_\n",
    "    md.append(o)\n",
    "    for i in range(1, len(md)):\n",
    "      ans.append(md[i-1]-md[i])\n",
    "  #plt.plot(list(np.arange(1,21)),md)\n",
    "  #plt.show()\n",
    "  #return md for gettign the list of centroid values\n",
    "  m=optimal_clusters(md)\n",
    "  return m"
   ]
  },
  {
   "cell_type": "code",
   "execution_count": null,
   "metadata": {
    "id": "yKuQDgzeXUVf"
   },
   "outputs": [],
   "source": [
    "m=elbow_method(upperwear_crop1)"
   ]
  },
  {
   "cell_type": "code",
   "execution_count": null,
   "metadata": {
    "colab": {
     "base_uri": "https://localhost:8080/",
     "height": 276
    },
    "id": "k8_UTNLrTDc-",
    "outputId": "eb173c97-c106-4ea1-8fbd-2fde88852ed8"
   },
   "outputs": [
    {
     "data": {
      "image/png": "[encoded data removed]",
      "text/plain": [
       "<Figure size 432x288 with 1 Axes>"
      ]
     },
     "metadata": {
      "needs_background": "light"
     },
     "output_type": "display_data"
    }
   ],
   "source": [
    "elbow_method(upperwear_crop1)"
   ]
  },
  {
   "cell_type": "code",
   "execution_count": null,
   "metadata": {
    "id": "UlAetSHlzNT3"
   },
   "outputs": [],
   "source": [
    "i=1\n",
    "slopes=[]\n",
    "while (i<(len(m)-2)):\n",
    "  slopes.append(m[i]-m[i-1])\n",
    "  i=i+1"
   ]
  },
  {
   "cell_type": "code",
   "execution_count": null,
   "metadata": {
    "id": "ZPqMw2AreVU1"
   },
   "outputs": [],
   "source": [
    "j=1\n",
    "double_slopes=[]\n",
    "while (j<len(slopes)-2):\n",
    "  double_slopes.append(slopes[j]-slopes[j-1])\n",
    "  j=j+1"
   ]
  },
  {
   "cell_type": "code",
   "execution_count": null,
   "metadata": {
    "id": "PvH_BC8f9Vym"
   },
   "outputs": [],
   "source": [
    "index_final=double_slopes.index(max(double_slopes))+2"
   ]
  },
  {
   "cell_type": "code",
   "execution_count": null,
   "metadata": {
    "colab": {
     "base_uri": "https://localhost:8080/"
    },
    "id": "QHleQmar-HC-",
    "outputId": "628bf981-2d3f-4256-9437-8f18cc300094"
   },
   "outputs": [
    {
     "data": {
      "text/plain": [
       "2"
      ]
     },
     "execution_count": 85,
     "metadata": {},
     "output_type": "execute_result"
    }
   ],
   "source": [
    "index_final"
   ]
  },
  {
   "cell_type": "code",
   "execution_count": null,
   "metadata": {
    "colab": {
     "base_uri": "https://localhost:8080/",
     "height": 276
    },
    "id": "JoUzsuxufOqf",
    "outputId": "a779bc3d-4b20-4dd3-8a03-066f56a87ba9"
   },
   "outputs": [
    {
     "data": {
      "image/png": "[encoded data removed]",
      "text/plain": [
       "<Figure size 432x288 with 1 Axes>"
      ]
     },
     "metadata": {
      "needs_background": "light"
     },
     "output_type": "display_data"
    }
   ],
   "source": [
    "elbow_method(upperwear_crop2)"
   ]
  },
  {
   "cell_type": "code",
   "execution_count": null,
   "metadata": {
    "id": "CXwxjBQy_u4D"
   },
   "outputs": [],
   "source": [
    "m=elbow_method(upperwear_crop2)"
   ]
  },
  {
   "cell_type": "code",
   "execution_count": null,
   "metadata": {
    "colab": {
     "base_uri": "https://localhost:8080/"
    },
    "id": "6t067pnbAnq3",
    "outputId": "1d501c86-514f-42f4-98ca-e6800e81db70"
   },
   "outputs": [
    {
     "data": {
      "text/plain": [
       "4"
      ]
     },
     "execution_count": 80,
     "metadata": {},
     "output_type": "execute_result"
    }
   ],
   "source": [
    "index_final"
   ]
  },
  {
   "cell_type": "code",
   "execution_count": null,
   "metadata": {
    "id": "mH0dp992BF9M"
   },
   "outputs": [],
   "source": [
    "def optimal_clusters(m):\n",
    "  i=1\n",
    "  slopes=[]\n",
    "  while (i<(len(m)-2)):\n",
    "    slopes.append(m[i]-m[i-1])\n",
    "    i=i+1\n",
    "  j=1\n",
    "  double_slopes=[]\n",
    "  while (j<len(slopes)-2):\n",
    "    double_slopes.append(slopes[j]-slopes[j-1])\n",
    "    j=j+1\n",
    "  index_final=double_slopes.index(max(double_slopes))+2\n",
    "  return index_final\n"
   ]
  }
 ],
 "metadata": {
  "colab": {
   "provenance": []
  },
  "kernelspec": {
   "display_name": "Python 3 (ipykernel)",
   "language": "python",
   "name": "python3"
  },
  "language_info": {
   "codemirror_mode": {
    "name": "ipython",
    "version": 3
   },
   "file_extension": ".py",
   "mimetype": "text/x-python",
   "name": "python",
   "nbconvert_exporter": "python",
   "pygments_lexer": "ipython3",
   "version": "3.9.7"
  }
 },
 "nbformat": 4,
 "nbformat_minor": 1
}
